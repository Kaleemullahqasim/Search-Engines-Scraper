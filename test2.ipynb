{
 "cells": [
  {
   "cell_type": "code",
   "execution_count": null,
   "metadata": {},
   "outputs": [],
   "source": [
    "import time\n",
    "import random\n",
    "from tqdm import tqdm\n",
    "from search_engines import Google, Bing, Yahoo\n",
    "from concurrent.futures import ThreadPoolExecutor"
   ]
  },
  {
   "cell_type": "code",
   "execution_count": null,
   "metadata": {},
   "outputs": [],
   "source": [
    "def search_and_write(query, output_file, max_retries=5, current_retry=0):\n",
    "    try:\n",
    "        links = set()\n",
    "    \n",
    "\n",
    "        for engine_class in [Google]:\n",
    "            engine = engine_class()\n",
    "            results = engine.search(query)\n",
    "            links.update(results.links())\n",
    "         # Add links to the set\n",
    "\n",
    "        with open(output_file, 'a') as f:\n",
    "            for link in links:\n",
    "                f.write(link + '\\n')\n",
    "\n",
    "    except Exception as e:\n",
    "        if current_retry < max_retries:\n",
    "            print(f\"An error occurred: {e}. Retrying ({current_retry + 1}/{max_retries})...\")\n",
    "            time.sleep(random.randint(1, 10))\n",
    "            search_and_write(query, output_file, max_retries, current_retry + 1)\n",
    "        else:\n",
    "            print(f\"An error occurred: {e}. Maximum retries reached. Skipping this query.\")\n",
    "            # Consider logging the error to a file\n",
    "\n",
    "input_file = '/Users/kaleemullahqasim/Desktop/YouTube Project Data/dorks/NewDork(Bing&Google)/google_dorks.txt'\n",
    "output_file = '/Users/kaleemullahqasim/Desktop/YouTube Project Data/dorks/NewDork(Bing&Google)/google_dorks_results.txt'\n",
    "\n",
    "with open(input_file, 'r') as f:\n",
    "    queries = f.readlines()\n",
    "\n",
    "with ThreadPoolExecutor(max_workers=5) as executor:\n",
    "    for query in tqdm(queries, desc=\"Processing queries\"):\n",
    "        query = query.strip()\n",
    "        executor.submit(search_and_write, query, output_file)\n"
   ]
  },
  {
   "cell_type": "code",
   "execution_count": 6,
   "metadata": {},
   "outputs": [
    {
     "name": "stdout",
     "output_type": "stream",
     "text": [
      "                                                                               \r"
     ]
    }
   ],
   "source": [
    "def search_and_write(query, output_file, max_retries=5, current_retry=0):\n",
    "    try:\n",
    "        links = set()\n",
    "    \n",
    "\n",
    "        for engine_class in [Yahoo]:\n",
    "            engine = engine_class()\n",
    "            results = engine.search(query)\n",
    "            links.update(results.links())\n",
    "         # Add links to the set\n",
    "\n",
    "        with open(output_file, 'a') as f:\n",
    "            for link in links:\n",
    "                f.write(link + '\\n')\n",
    "\n",
    "    except Exception as e:\n",
    "        if current_retry < max_retries:\n",
    "            print(f\"An error occurred: {e}. Retrying ({current_retry + 1}/{max_retries})...\")\n",
    "            time.sleep(random.randint(1, 10))\n",
    "            search_and_write(query, output_file, max_retries, current_retry + 1)\n",
    "        else:\n",
    "            print(f\"An error occurred: {e}. Maximum retries reached. Skipping this query.\")\n",
    "            # Consider logging the error to a file\n",
    "\n",
    "input_file = '/Users/kaleemullahqasim/Desktop/YouTube Project Data/dorks/NewDork(Bing&Google)/google_dorks.txt'\n",
    "output_file = '/Users/kaleemullahqasim/Desktop/YouTube Project Data/dorks/NewDork(Bing&Google)/yahoo_dorks_results.txt'\n",
    "\n",
    "with open(input_file, 'r') as f:\n",
    "    queries = f.readlines()\n",
    "\n",
    "with ThreadPoolExecutor(max_workers=5) as executor:\n",
    "    for query in tqdm(queries, desc=\"Processing queries\"):\n",
    "        query = query.strip()\n",
    "        executor.submit(search_and_write, query, output_file)\n"
   ]
  },
  {
   "cell_type": "code",
   "execution_count": null,
   "metadata": {},
   "outputs": [],
   "source": []
  }
 ],
 "metadata": {
  "kernelspec": {
   "display_name": "Python 3",
   "language": "python",
   "name": "python3"
  },
  "language_info": {
   "codemirror_mode": {
    "name": "ipython",
    "version": 3
   },
   "file_extension": ".py",
   "mimetype": "text/x-python",
   "name": "python",
   "nbconvert_exporter": "python",
   "pygments_lexer": "ipython3",
   "version": "3.11.4"
  },
  "orig_nbformat": 4
 },
 "nbformat": 4,
 "nbformat_minor": 2
}
